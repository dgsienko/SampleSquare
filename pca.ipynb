{
 "cells": [
  {
   "cell_type": "code",
   "execution_count": 1,
   "metadata": {
    "collapsed": true
   },
   "outputs": [],
   "source": [
    "import pickle\n",
    "\n",
    "with open('pickled_data', 'rb') as read:\n",
    "    all_data = pickle.load(read)\n",
    "\n",
    "all_samples = all_data['matrix'].T\n",
    "sample_ids = all_data['ids']"
   ]
  },
  {
   "cell_type": "code",
   "execution_count": 2,
   "metadata": {
    "collapsed": false
   },
   "outputs": [
    {
     "name": "stdout",
     "output_type": "stream",
     "text": [
      "(8,)\n"
     ]
    }
   ],
   "source": [
    "import numpy as np\n",
    "\n",
    "mean_vector = np.mean(all_samples, axis=1)\n",
    "print(np.shape(mean_vector))"
   ]
  },
  {
   "cell_type": "code",
   "execution_count": 3,
   "metadata": {
    "collapsed": false
   },
   "outputs": [
    {
     "name": "stdout",
     "output_type": "stream",
     "text": [
      "Scatter Matrix:\n",
      " [[  21215.40130393   23227.62246949   25144.23082337    4457.743596\n",
      "    21319.13143789   21033.39513023   20896.59163415   21110.42924118]\n",
      " [  23227.62246949   40233.74885578   38422.16892633  -32439.6888071\n",
      "    23882.01301056   23027.72215775   22461.06306938   23230.09955453]\n",
      " [  25144.23082337   38422.16892633   59696.99597695  -72474.72430959\n",
      "    26119.56812111   24158.81944461   23990.84036851   25162.97170312]\n",
      " [   4457.743596    -32439.6888071   -72474.72430959  485799.56933002\n",
      "     3215.80734768    6755.31421507    8429.82654968    5260.62701601]\n",
      " [  21319.13143789   23882.01301056   26119.56812111    3215.80734768\n",
      "    21858.27716534   21213.89996193   21015.81070009   21249.78847288]\n",
      " [  21033.39513023   23027.72215775   24158.81944461    6755.31421507\n",
      "    21213.89996193   21047.23674937   20848.39167509   21006.18727777]\n",
      " [  20896.59163415   22461.06306938   23990.84036851    8429.82654968\n",
      "    21015.81070009   20848.39167509   20766.71194366   20881.71783737]\n",
      " [  21110.42924118   23230.09955453   25162.97170312    5260.62701601\n",
      "    21249.78847288   21006.18727777   20881.71783737   21189.07866427]]\n"
     ]
    }
   ],
   "source": [
    "scatter_matrix = np.zeros((8,8))\n",
    "for i in range(all_samples.shape[1]):\n",
    "    scatter_matrix += (all_samples[:,i].reshape(8,1) - mean_vector).dot(\n",
    "        (all_samples[:,i].reshape(8,1) - mean_vector).T)\n",
    "print('Scatter Matrix:\\n', scatter_matrix)"
   ]
  },
  {
   "cell_type": "code",
   "execution_count": 32,
   "metadata": {
    "collapsed": false
   },
   "outputs": [
    {
     "data": {
      "text/plain": [
       "253"
      ]
     },
     "execution_count": 32,
     "metadata": {},
     "output_type": "execute_result"
    }
   ],
   "source": [
    "all_samples.shape[1]"
   ]
  },
  {
   "cell_type": "code",
   "execution_count": 4,
   "metadata": {
    "collapsed": false
   },
   "outputs": [
    {
     "data": {
      "text/plain": [
       "(8, 8)"
      ]
     },
     "execution_count": 4,
     "metadata": {},
     "output_type": "execute_result"
    }
   ],
   "source": [
    "cov_mat = np.cov(all_samples)\n",
    "np.shape(cov_mat)"
   ]
  },
  {
   "cell_type": "code",
   "execution_count": 5,
   "metadata": {
    "collapsed": false,
    "scrolled": true
   },
   "outputs": [
    {
     "name": "stdout",
     "output_type": "stream",
     "text": [
      "Eigenvector 1: \n",
      "[[  3.96409399e-03]\n",
      " [  8.36452969e-02]\n",
      " [  1.69028237e-01]\n",
      " [ -9.82010654e-01]\n",
      " [  6.84406271e-03]\n",
      " [ -9.07925202e-04]\n",
      " [ -4.34454444e-03]\n",
      " [  2.39596094e-03]]\n",
      "Eigenvalue 1 from scatter matrix: 501027.6882545287\n",
      "Eigenvalue 1 from covariance matrix: 169.85323717650604\n",
      "Scaling factor:  2949.7682622\n",
      "----------------------------------------\n",
      "Eigenvector 2: \n",
      "[[ 0.34546313]\n",
      " [ 0.4192151 ]\n",
      " [ 0.46290709]\n",
      " [ 0.11824593]\n",
      " [ 0.35111585]\n",
      " [ 0.3430014 ]\n",
      " [ 0.34079202]\n",
      " [ 0.3457996 ]]\n",
      "Eigenvalue 2 from scatter matrix: 168916.43471445036\n",
      "Eigenvalue 2 from covariance matrix: 10.679223459527327\n",
      "Scaling factor:  15817.2956446\n",
      "----------------------------------------\n",
      "Eigenvector 3: \n",
      "[[-0.25216456]\n",
      " [ 0.10188785]\n",
      " [ 0.8065945 ]\n",
      " [ 0.14580525]\n",
      " [-0.21982687]\n",
      " [-0.28178721]\n",
      " [-0.26324591]\n",
      " [-0.23906431]]\n",
      "Eigenvalue 3 from scatter matrix: 12742.280096579832\n",
      "Eigenvalue 3 from covariance matrix: 4.449445173128753\n",
      "Scaling factor:  2863.79078756\n",
      "----------------------------------------\n",
      "Eigenvector 4: \n",
      "[[-0.13970571]\n",
      " [ 0.89785978]\n",
      " [-0.32331597]\n",
      " [ 0.01980807]\n",
      " [-0.12714248]\n",
      " [-0.11132399]\n",
      " [-0.14932201]\n",
      " [-0.13619564]]\n",
      "Eigenvalue 4 from scatter matrix: 8571.98370087016\n",
      "Eigenvalue 4 from covariance matrix: 0.2349698590337351\n",
      "Scaling factor:  36481.2054453\n",
      "----------------------------------------\n",
      "Eigenvector 5: \n",
      "[[  1.25692203e-01]\n",
      " [  1.48069093e-02]\n",
      " [  2.56395379e-02]\n",
      " [ -5.26834798e-04]\n",
      " [ -8.83248123e-01]\n",
      " [  1.06411863e-01]\n",
      " [  2.85800188e-01]\n",
      " [  3.31951929e-01]]\n",
      "Eigenvalue 5 from scatter matrix: 325.3603084875997\n",
      "Eigenvalue 5 from covariance matrix: 0.06903279886823321\n",
      "Scaling factor:  4713.12642428\n",
      "----------------------------------------\n",
      "Eigenvector 6: \n",
      "[[-0.11856672]\n",
      " [ 0.0212596 ]\n",
      " [-0.01793353]\n",
      " [-0.00382802]\n",
      " [ 0.11325356]\n",
      " [-0.64884595]\n",
      " [ 0.73810204]\n",
      " [-0.0808186 ]]\n",
      "Eigenvalue 6 from scatter matrix: 41.193158881088536\n",
      "Eigenvalue 6 from covariance matrix: 0.005771162834762828\n",
      "Scaling factor:  7137.75716619\n",
      "----------------------------------------\n",
      "Eigenvector 7: \n",
      "[[  8.43197561e-01]\n",
      " [  7.13177124e-03]\n",
      " [ -3.99435303e-05]\n",
      " [  2.54579722e-03]\n",
      " [ -1.07752044e-01]\n",
      " [ -1.90074798e-01]\n",
      " [ -6.85519494e-02]\n",
      " [ -4.86335509e-01]]\n",
      "Eigenvalue 7 from scatter matrix: 83.51676251884868\n",
      "Eigenvalue 7 from covariance matrix: 0.041463140723425024\n",
      "Scaling factor:  2014.24110817\n",
      "----------------------------------------\n",
      "Eigenvector 8: \n",
      "[[  2.38109514e-01]\n",
      " [  2.60291215e-03]\n",
      " [ -3.22424962e-02]\n",
      " [  1.81106162e-04]\n",
      " [  8.72790834e-02]\n",
      " [ -5.67537816e-01]\n",
      " [ -4.01336169e-01]\n",
      " [  6.71915130e-01]]\n",
      "Eigenvalue 8 from scatter matrix: 98.56299298241761\n",
      "Eigenvalue 8 from covariance matrix: 0.037241324236929704\n",
      "Scaling factor:  2646.6027995\n",
      "----------------------------------------\n"
     ]
    }
   ],
   "source": [
    "eig_val_sc, eig_vec_sc = np.linalg.eig(scatter_matrix)\n",
    "eig_val_cov, eig_vec_cov = np.linalg.eig(cov_mat)\n",
    "\n",
    "for i in range(len(eig_val_sc)):\n",
    "    eigvec_sc = eig_vec_sc[:,i].reshape(1,8).T\n",
    "    eigvec_cov = eig_vec_cov[:,i].reshape(1,8).T\n",
    "    assert eigvec_sc.all() == eigvec_cov.all(), 'Eigenvectors are not identical'\n",
    "\n",
    "    print('Eigenvector {}: \\n{}'.format(i+1, eigvec_sc))\n",
    "    print('Eigenvalue {} from scatter matrix: {}'.format(i+1, eig_val_sc[i]))\n",
    "    print('Eigenvalue {} from covariance matrix: {}'.format(i+1, eig_val_cov[i]))\n",
    "    print('Scaling factor: ', eig_val_sc[i]/eig_val_cov[i])\n",
    "    print(40 * '-')"
   ]
  },
  {
   "cell_type": "code",
   "execution_count": 6,
   "metadata": {
    "collapsed": true
   },
   "outputs": [],
   "source": [
    "for i in range(len(eig_val_sc)):\n",
    "    eigv = eig_vec_sc[:,i].reshape(1,8).T\n",
    "    np.testing.assert_array_almost_equal(scatter_matrix.dot(eigv),\n",
    "                                         eig_val_sc[i] * eigv,\n",
    "                                         decimal=6, err_msg='', verbose=True)"
   ]
  },
  {
   "cell_type": "code",
   "execution_count": 7,
   "metadata": {
    "collapsed": false
   },
   "outputs": [
    {
     "name": "stdout",
     "output_type": "stream",
     "text": [
      "501027.688255\n",
      "168916.434714\n",
      "12742.2800966\n",
      "8571.98370087\n",
      "325.360308488\n",
      "98.5629929824\n",
      "83.5167625188\n",
      "41.1931588811\n"
     ]
    }
   ],
   "source": [
    "# Make a list of (eigenvalue, eigenvector) tuples\n",
    "eig_pairs = [(np.abs(eig_val_sc[i]), eig_vec_sc[:,i])\n",
    "             for i in range(len(eig_val_sc))]\n",
    "\n",
    "# Sort the (eigenvalue, eigenvector) tuples from high to low\n",
    "eig_pairs.sort()\n",
    "eig_pairs.reverse()\n",
    "\n",
    "# Visually confirm that the list is correctly sorted by decreasing eigenvalues\n",
    "for i in eig_pairs:\n",
    "    print(i[0])"
   ]
  },
  {
   "cell_type": "code",
   "execution_count": 8,
   "metadata": {
    "collapsed": false
   },
   "outputs": [
    {
     "name": "stdout",
     "output_type": "stream",
     "text": [
      "Matrix W:\n",
      " [[  3.96409399e-03   3.45463128e-01  -2.52164557e-01]\n",
      " [  8.36452969e-02   4.19215096e-01   1.01887845e-01]\n",
      " [  1.69028237e-01   4.62907087e-01   8.06594502e-01]\n",
      " [ -9.82010654e-01   1.18245931e-01   1.45805251e-01]\n",
      " [  6.84406271e-03   3.51115848e-01  -2.19826872e-01]\n",
      " [ -9.07925202e-04   3.43001397e-01  -2.81787211e-01]\n",
      " [ -4.34454444e-03   3.40792016e-01  -2.63245913e-01]\n",
      " [  2.39596094e-03   3.45799601e-01  -2.39064311e-01]]\n"
     ]
    }
   ],
   "source": [
    "matrix_w = np.hstack((eig_pairs[0][1].reshape(8,1),\n",
    "                      eig_pairs[1][1].reshape(8,1),\n",
    "                      eig_pairs[2][1].reshape(8,1)))\n",
    "print('Matrix W:\\n', matrix_w)"
   ]
  },
  {
   "cell_type": "code",
   "execution_count": 9,
   "metadata": {
    "collapsed": false
   },
   "outputs": [],
   "source": [
    "transformed = matrix_w.T.dot(all_samples)\n",
    "assert transformed.shape == (3,253), \"The matrix is not 3x253 dimensional.\""
   ]
  },
  {
   "cell_type": "code",
   "execution_count": 56,
   "metadata": {
    "collapsed": true
   },
   "outputs": [],
   "source": [
    "%matplotlib inline\n",
    "\n",
    "from matplotlib import pyplot as plt\n",
    "from mpl_toolkits.mplot3d import Axes3D\n",
    "from mpl_toolkits.mplot3d import proj3d\n",
    "from matplotlib.patches import FancyArrowPatch"
   ]
  },
  {
   "cell_type": "code",
   "execution_count": 57,
   "metadata": {
    "collapsed": false
   },
   "outputs": [
    {
     "data": {
      "image/png": "[encoded data removed]",
      "text/plain": [
       "<matplotlib.figure.Figure at 0x10621a940>"
      ]
     },
     "metadata": {},
     "output_type": "display_data"
    }
   ],
   "source": [
    "fig = plt.figure(figsize=(7,7))\n",
    "ax = fig.add_subplot(111, projection='3d')\n",
    "\n",
    "ax.plot(transformed[0,:], transformed[1,:], transformed[2,:],\n",
    "        'o', markersize=8, color='green', alpha=0.2)\n",
    "plt.show()"
   ]
  },
  {
   "cell_type": "code",
   "execution_count": 10,
   "metadata": {
    "collapsed": true
   },
   "outputs": [],
   "source": [
    "import plotly"
   ]
  },
  {
   "cell_type": "code",
   "execution_count": 11,
   "metadata": {
    "collapsed": true
   },
   "outputs": [],
   "source": [
    "import plotly.plotly as py\n",
    "\n",
    "# (*) Useful Python/Plotly tools\n",
    "import plotly.tools as tls\n",
    "\n",
    "# (*) Graph objects to piece together plots\n",
    "from plotly.graph_objs import *\n"
   ]
  },
  {
   "cell_type": "code",
   "execution_count": 12,
   "metadata": {
    "collapsed": false
   },
   "outputs": [
    {
     "ename": "PlotlyDictValueError",
     "evalue": "'data' has invalid value inside 'figure'\n\nPath To Error: ['data']\n\nCurrent path: []\nCurrent parent object_names: []\n\nAdditionally:\n\n    role: object\n\n",
     "output_type": "error",
     "traceback": [
      "\u001b[1;31m---------------------------------------------------------------------------\u001b[0m",
      "\u001b[1;31mPlotlyDictValueError\u001b[0m                      Traceback (most recent call last)",
      "\u001b[1;32m<ipython-input-12-1f3b974ac9ae>\u001b[0m in \u001b[0;36m<module>\u001b[1;34m()\u001b[0m\n\u001b[1;32m----> 1\u001b[1;33m \u001b[0mfig\u001b[0m \u001b[1;33m=\u001b[0m \u001b[0mFigure\u001b[0m\u001b[1;33m(\u001b[0m\u001b[0mdata\u001b[0m\u001b[1;33m=\u001b[0m\u001b[0mtransformed\u001b[0m\u001b[1;33m)\u001b[0m\u001b[1;33m\u001b[0m\u001b[0m\n\u001b[0m",
      "\u001b[1;32mC:\\Users\\leo\\Anaconda3\\lib\\site-packages\\plotly\\graph_objs\\graph_objs.py\u001b[0m in \u001b[0;36m__init__\u001b[1;34m(self, *args, **kwargs)\u001b[0m\n\u001b[0;32m    826\u001b[0m \u001b[1;33m\u001b[0m\u001b[0m\n\u001b[0;32m    827\u001b[0m     \u001b[1;32mdef\u001b[0m \u001b[0m__init__\u001b[0m\u001b[1;33m(\u001b[0m\u001b[0mself\u001b[0m\u001b[1;33m,\u001b[0m \u001b[1;33m*\u001b[0m\u001b[0margs\u001b[0m\u001b[1;33m,\u001b[0m \u001b[1;33m**\u001b[0m\u001b[0mkwargs\u001b[0m\u001b[1;33m)\u001b[0m\u001b[1;33m:\u001b[0m\u001b[1;33m\u001b[0m\u001b[0m\n\u001b[1;32m--> 828\u001b[1;33m         \u001b[0msuper\u001b[0m\u001b[1;33m(\u001b[0m\u001b[0mfigure_class\u001b[0m\u001b[1;33m,\u001b[0m \u001b[0mself\u001b[0m\u001b[1;33m)\u001b[0m\u001b[1;33m.\u001b[0m\u001b[0m__init__\u001b[0m\u001b[1;33m(\u001b[0m\u001b[1;33m*\u001b[0m\u001b[0margs\u001b[0m\u001b[1;33m,\u001b[0m \u001b[1;33m**\u001b[0m\u001b[0mkwargs\u001b[0m\u001b[1;33m)\u001b[0m\u001b[1;33m\u001b[0m\u001b[0m\n\u001b[0m\u001b[0;32m    829\u001b[0m         \u001b[1;32mif\u001b[0m \u001b[1;34m'data'\u001b[0m \u001b[1;32mnot\u001b[0m \u001b[1;32min\u001b[0m \u001b[0mself\u001b[0m\u001b[1;33m:\u001b[0m\u001b[1;33m\u001b[0m\u001b[0m\n\u001b[0;32m    830\u001b[0m             self.data = GraphObjectFactory.create('data', _parent=self,\n",
      "\u001b[1;32mC:\\Users\\leo\\Anaconda3\\lib\\site-packages\\plotly\\graph_objs\\graph_objs.py\u001b[0m in \u001b[0;36m__init__\u001b[1;34m(self, *args, **kwargs)\u001b[0m\n\u001b[0;32m    379\u001b[0m         \u001b[0md\u001b[0m \u001b[1;33m=\u001b[0m \u001b[1;33m{\u001b[0m\u001b[0mkey\u001b[0m\u001b[1;33m:\u001b[0m \u001b[0mval\u001b[0m \u001b[1;32mfor\u001b[0m \u001b[0mkey\u001b[0m\u001b[1;33m,\u001b[0m \u001b[0mval\u001b[0m \u001b[1;32min\u001b[0m \u001b[0mdict\u001b[0m\u001b[1;33m(\u001b[0m\u001b[1;33m*\u001b[0m\u001b[0margs\u001b[0m\u001b[1;33m,\u001b[0m \u001b[1;33m**\u001b[0m\u001b[0mkwargs\u001b[0m\u001b[1;33m)\u001b[0m\u001b[1;33m.\u001b[0m\u001b[0mitems\u001b[0m\u001b[1;33m(\u001b[0m\u001b[1;33m)\u001b[0m\u001b[1;33m}\u001b[0m\u001b[1;33m\u001b[0m\u001b[0m\n\u001b[0;32m    380\u001b[0m         \u001b[1;32mfor\u001b[0m \u001b[0mkey\u001b[0m\u001b[1;33m,\u001b[0m \u001b[0mval\u001b[0m \u001b[1;32min\u001b[0m \u001b[0md\u001b[0m\u001b[1;33m.\u001b[0m\u001b[0mitems\u001b[0m\u001b[1;33m(\u001b[0m\u001b[1;33m)\u001b[0m\u001b[1;33m:\u001b[0m\u001b[1;33m\u001b[0m\u001b[0m\n\u001b[1;32m--> 381\u001b[1;33m             \u001b[0mself\u001b[0m\u001b[1;33m.\u001b[0m\u001b[0m__setitem__\u001b[0m\u001b[1;33m(\u001b[0m\u001b[0mkey\u001b[0m\u001b[1;33m,\u001b[0m \u001b[0mval\u001b[0m\u001b[1;33m,\u001b[0m \u001b[0m_raise\u001b[0m\u001b[1;33m=\u001b[0m\u001b[0m_raise\u001b[0m\u001b[1;33m)\u001b[0m\u001b[1;33m\u001b[0m\u001b[0m\n\u001b[0m\u001b[0;32m    382\u001b[0m \u001b[1;33m\u001b[0m\u001b[0m\n\u001b[0;32m    383\u001b[0m     \u001b[1;32mdef\u001b[0m \u001b[0m__dir__\u001b[0m\u001b[1;33m(\u001b[0m\u001b[0mself\u001b[0m\u001b[1;33m)\u001b[0m\u001b[1;33m:\u001b[0m\u001b[1;33m\u001b[0m\u001b[0m\n",
      "\u001b[1;32mC:\\Users\\leo\\Anaconda3\\lib\\site-packages\\plotly\\graph_objs\\graph_objs.py\u001b[0m in \u001b[0;36m__setitem__\u001b[1;34m(self, key, value, _raise)\u001b[0m\n\u001b[0;32m    434\u001b[0m \u001b[1;33m\u001b[0m\u001b[0m\n\u001b[0;32m    435\u001b[0m         \u001b[1;32mif\u001b[0m \u001b[0mself\u001b[0m\u001b[1;33m.\u001b[0m\u001b[0m_get_attribute_role\u001b[0m\u001b[1;33m(\u001b[0m\u001b[0mkey\u001b[0m\u001b[1;33m)\u001b[0m \u001b[1;33m==\u001b[0m \u001b[1;34m'object'\u001b[0m\u001b[1;33m:\u001b[0m\u001b[1;33m\u001b[0m\u001b[0m\n\u001b[1;32m--> 436\u001b[1;33m             \u001b[0mvalue\u001b[0m \u001b[1;33m=\u001b[0m \u001b[0mself\u001b[0m\u001b[1;33m.\u001b[0m\u001b[0m_value_to_graph_object\u001b[0m\u001b[1;33m(\u001b[0m\u001b[0mkey\u001b[0m\u001b[1;33m,\u001b[0m \u001b[0mvalue\u001b[0m\u001b[1;33m,\u001b[0m \u001b[0m_raise\u001b[0m\u001b[1;33m=\u001b[0m\u001b[0m_raise\u001b[0m\u001b[1;33m)\u001b[0m\u001b[1;33m\u001b[0m\u001b[0m\n\u001b[0m\u001b[0;32m    437\u001b[0m             \u001b[1;32mif\u001b[0m \u001b[1;32mnot\u001b[0m \u001b[0misinstance\u001b[0m\u001b[1;33m(\u001b[0m\u001b[0mvalue\u001b[0m\u001b[1;33m,\u001b[0m \u001b[1;33m(\u001b[0m\u001b[0mPlotlyDict\u001b[0m\u001b[1;33m,\u001b[0m \u001b[0mPlotlyList\u001b[0m\u001b[1;33m)\u001b[0m\u001b[1;33m)\u001b[0m\u001b[1;33m:\u001b[0m\u001b[1;33m\u001b[0m\u001b[0m\n\u001b[0;32m    438\u001b[0m                 \u001b[1;32mreturn\u001b[0m\u001b[1;33m\u001b[0m\u001b[0m\n",
      "\u001b[1;32mC:\\Users\\leo\\Anaconda3\\lib\\site-packages\\plotly\\graph_objs\\graph_objs.py\u001b[0m in \u001b[0;36m_value_to_graph_object\u001b[1;34m(self, key, value, _raise)\u001b[0m\n\u001b[0;32m    539\u001b[0m             \u001b[1;32mif\u001b[0m \u001b[0m_raise\u001b[0m\u001b[1;33m:\u001b[0m\u001b[1;33m\u001b[0m\u001b[0m\n\u001b[0;32m    540\u001b[0m                 \u001b[0mpath\u001b[0m \u001b[1;33m=\u001b[0m \u001b[0mself\u001b[0m\u001b[1;33m.\u001b[0m\u001b[0m_get_path\u001b[0m\u001b[1;33m(\u001b[0m\u001b[1;33m)\u001b[0m \u001b[1;33m+\u001b[0m \u001b[1;33m(\u001b[0m\u001b[0mkey\u001b[0m\u001b[1;33m,\u001b[0m \u001b[1;33m)\u001b[0m\u001b[1;33m\u001b[0m\u001b[0m\n\u001b[1;32m--> 541\u001b[1;33m                 \u001b[1;32mraise\u001b[0m \u001b[0mexceptions\u001b[0m\u001b[1;33m.\u001b[0m\u001b[0mPlotlyDictValueError\u001b[0m\u001b[1;33m(\u001b[0m\u001b[0mself\u001b[0m\u001b[1;33m,\u001b[0m \u001b[0mpath\u001b[0m\u001b[1;33m)\u001b[0m\u001b[1;33m\u001b[0m\u001b[0m\n\u001b[0m\u001b[0;32m    542\u001b[0m             \u001b[1;32melse\u001b[0m\u001b[1;33m:\u001b[0m\u001b[1;33m\u001b[0m\u001b[0m\n\u001b[0;32m    543\u001b[0m                 \u001b[1;32mreturn\u001b[0m\u001b[1;33m\u001b[0m\u001b[0m\n",
      "\u001b[1;31mPlotlyDictValueError\u001b[0m: 'data' has invalid value inside 'figure'\n\nPath To Error: ['data']\n\nCurrent path: []\nCurrent parent object_names: []\n\nAdditionally:\n\n    role: object\n\n"
     ]
    }
   ],
   "source": [
    "fig = Figure(data=transformed)"
   ]
  }
 ],
 "metadata": {
  "kernelspec": {
   "display_name": "Python 3",
   "language": "python",
   "name": "python3"
  },
  "language_info": {
   "codemirror_mode": {
    "name": "ipython",
    "version": 3
   },
   "file_extension": ".py",
   "mimetype": "text/x-python",
   "name": "python",
   "nbconvert_exporter": "python",
   "pygments_lexer": "ipython3",
   "version": "3.4.3"
  }
 },
 "nbformat": 4,
 "nbformat_minor": 0
}
